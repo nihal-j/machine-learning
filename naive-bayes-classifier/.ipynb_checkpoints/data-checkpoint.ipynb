{
 "cells": [
  {
   "cell_type": "code",
   "execution_count": 3,
   "metadata": {},
   "outputs": [],
   "source": [
    "import numpy as np\n",
    "import pickle"
   ]
  },
  {
   "cell_type": "code",
   "execution_count": 4,
   "metadata": {},
   "outputs": [],
   "source": [
    "comments = []\n",
    "labels = []\n",
    "\n",
    "with open('data/a1_s3_sub.txt') as file:\n",
    "    \n",
    "    for i, line in enumerate(file):\n",
    "        \n",
    "        # obtain the comment from the line\n",
    "        comment = line.split('\\t')[0]\n",
    "        comments.append(comment)\n",
    "        # obtain the label of the comment from the line\n",
    "        label = ord(line.split('\\t')[1][0]) - ord('0')\n",
    "        labels.append(label)\n",
    "        \n",
    "# comments[i] has label labels[i] now"
   ]
  },
  {
   "cell_type": "code",
   "execution_count": 5,
   "metadata": {},
   "outputs": [],
   "source": [
    "data = []\n",
    "for i, comment in enumerate(comments):\n",
    "    data.append((comment, labels[i]))\n",
    "    \n",
    "# data[i] is a tuple (comments[i], labels[i]) now"
   ]
  },
  {
   "cell_type": "code",
   "execution_count": 6,
   "metadata": {},
   "outputs": [],
   "source": [
    "# save the three objects to persistent memory\n",
    "\n",
    "data_file = open('data/data_sub.pickle', 'wb')\n",
    "pickle.dump(data, data_file)\n",
    "\n",
    "comments_file = open('data/comments_sub.pickle', 'wb')\n",
    "pickle.dump(comments, comments_file)\n",
    "\n",
    "labels_file = open('data/labels_sub.pickle', 'wb')\n",
    "pickle.dump(labels, labels_file)"
   ]
  },
  {
   "cell_type": "code",
   "execution_count": null,
   "metadata": {},
   "outputs": [],
   "source": []
  }
 ],
 "metadata": {
  "kernelspec": {
   "display_name": "Python 3",
   "language": "python",
   "name": "python3"
  },
  "language_info": {
   "codemirror_mode": {
    "name": "ipython",
    "version": 3
   },
   "file_extension": ".py",
   "mimetype": "text/x-python",
   "name": "python",
   "nbconvert_exporter": "python",
   "pygments_lexer": "ipython3",
   "version": "3.6.9"
  }
 },
 "nbformat": 4,
 "nbformat_minor": 4
}
