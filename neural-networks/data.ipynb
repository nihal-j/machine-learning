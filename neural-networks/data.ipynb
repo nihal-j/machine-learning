{
 "cells": [
  {
   "cell_type": "code",
   "execution_count": 1,
   "metadata": {},
   "outputs": [],
   "source": [
    "# Data information\n",
    "\n",
    "# 1. variance of Wavelet Transformed image (continuous)\n",
    "# 2. skewness of Wavelet Transformed image (continuous)\n",
    "# 3. curtosis of Wavelet Transformed image (continuous)\n",
    "# 4. entropy of image (continuous)\n",
    "# 5. class (integer)\n",
    "\n",
    "# Number of instances: 1372"
   ]
  },
  {
   "cell_type": "code",
   "execution_count": 2,
   "metadata": {},
   "outputs": [],
   "source": [
    "import csv\n",
    "import numpy as np"
   ]
  },
  {
   "cell_type": "code",
   "execution_count": 7,
   "metadata": {},
   "outputs": [],
   "source": [
    "def load_data(path):\n",
    "    \n",
    "    \"\"\"\n",
    "    \n",
    "    Loads the CSV file located at `path` into a numpy array.\n",
    "    \n",
    "    Args:\n",
    "        path:    str path to the CSV file to be loaded\n",
    "    \n",
    "    Returns:\n",
    "        data:    numpy array with the data arranged in 2D\n",
    "        \n",
    "    \"\"\"\n",
    "\n",
    "    data = np.array([])\n",
    "    with open(path) as file:\n",
    "        reader = csv.reader(file, delimiter=',')\n",
    "        rowCnt = 0\n",
    "        next(reader)\n",
    "        for row in reader:\n",
    "            rowCnt += 1\n",
    "            for value in row:\n",
    "                data = np.append(data, value)\n",
    "    data = np.reshape(data, (rowCnt, -1))\n",
    "    data = data.astype(np.float)\n",
    "    \n",
    "    return data"
   ]
  },
  {
   "cell_type": "code",
   "execution_count": 8,
   "metadata": {},
   "outputs": [],
   "source": [
    "def store(path, data):\n",
    "    \n",
    "    \"\"\"\n",
    "    \n",
    "    Stores `data` into persistent memory located at `path`.\n",
    "    \n",
    "    Args:\n",
    "        path:    str path to destination\n",
    "        data:    numpy array to be stored\n",
    "    \n",
    "    \"\"\"\n",
    "    \n",
    "    np.save(path, data)"
   ]
  },
  {
   "cell_type": "code",
   "execution_count": 11,
   "metadata": {},
   "outputs": [],
   "source": [
    "def main():\n",
    "    \n",
    "    data = load_data('data/housepricedata.csv')\n",
    "    print(data.shape)\n",
    "    store('data/data.npy', data)\n",
    "    print(data)"
   ]
  },
  {
   "cell_type": "code",
   "execution_count": 12,
   "metadata": {
    "scrolled": true
   },
   "outputs": [
    {
     "name": "stdout",
     "output_type": "stream",
     "text": [
      "(1460, 11)\n",
      "[[8.450e+03 7.000e+00 5.000e+00 ... 0.000e+00 5.480e+02 1.000e+00]\n",
      " [9.600e+03 6.000e+00 8.000e+00 ... 1.000e+00 4.600e+02 1.000e+00]\n",
      " [1.125e+04 7.000e+00 5.000e+00 ... 1.000e+00 6.080e+02 1.000e+00]\n",
      " ...\n",
      " [9.042e+03 7.000e+00 9.000e+00 ... 2.000e+00 2.520e+02 1.000e+00]\n",
      " [9.717e+03 5.000e+00 6.000e+00 ... 0.000e+00 2.400e+02 0.000e+00]\n",
      " [9.937e+03 5.000e+00 6.000e+00 ... 0.000e+00 2.760e+02 0.000e+00]]\n"
     ]
    }
   ],
   "source": [
    "main()"
   ]
  },
  {
   "cell_type": "code",
   "execution_count": null,
   "metadata": {},
   "outputs": [],
   "source": []
  }
 ],
 "metadata": {
  "kernelspec": {
   "display_name": "Python 3",
   "language": "python",
   "name": "python3"
  },
  "language_info": {
   "codemirror_mode": {
    "name": "ipython",
    "version": 3
   },
   "file_extension": ".py",
   "mimetype": "text/x-python",
   "name": "python",
   "nbconvert_exporter": "python",
   "pygments_lexer": "ipython3",
   "version": "3.6.9"
  }
 },
 "nbformat": 4,
 "nbformat_minor": 4
}
