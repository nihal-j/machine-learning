{
 "cells": [
  {
   "cell_type": "code",
   "execution_count": 324,
   "metadata": {},
   "outputs": [],
   "source": [
    "import numpy as np\n",
    "from sklearn.model_selection import train_test_split\n",
    "from sklearn.linear_model import LogisticRegression"
   ]
  },
  {
   "cell_type": "code",
   "execution_count": 352,
   "metadata": {},
   "outputs": [],
   "source": [
    "def sklearn_model(X, t):\n",
    "    \n",
    "    model = LogisticRegression(C=1000000000000, random_state=0).fit(X, t)\n",
    "    params = model.coef_[0]\n",
    "    print(params)"
   ]
  },
  {
   "cell_type": "code",
   "execution_count": 293,
   "metadata": {},
   "outputs": [],
   "source": [
    "def normalize(data, method='min-max'):\n",
    "    \n",
    "    \"\"\"\n",
    "    Computes statistics assuming each sample is a row.\n",
    "    \"\"\"\n",
    "    \n",
    "    if (method == 'min-max'):\n",
    "        numerator = data - np.min(data, axis=0)\n",
    "        denominator = np.max(data, axis=0) - np.min(data, axis=0)\n",
    "        return numerator/denominator\n",
    "    \n",
    "    if (method == 'standardization'):\n",
    "        numerator = data - np.mean(data, axis=0)\n",
    "        denominator = np.std(data, axis=0)\n",
    "        return numerator/denominator\n",
    "    "
   ]
  },
  {
   "cell_type": "code",
   "execution_count": 294,
   "metadata": {},
   "outputs": [],
   "source": [
    "def segregate_target(data):\n",
    "    \n",
    "    X = data[:, :-1]\n",
    "    t = data[:, -1:]\n",
    "    \n",
    "    return X, t"
   ]
  },
  {
   "cell_type": "code",
   "execution_count": 295,
   "metadata": {},
   "outputs": [],
   "source": [
    "def train_test_validation_split(X, t):\n",
    "    \n",
    "    X_train, X_test, t_train, t_test = train_test_split(X, t, test_size=0.33, random_state=42)\n",
    "    X_valid, X_test, t_valid, t_test = train_test_split(X_test, t_test, test_size=0.5, random_state=42)\n",
    "    \n",
    "    data = {\n",
    "        'X_train': X_train,\n",
    "        't_train': t_train,\n",
    "        'X_valid': X_valid,\n",
    "        't_valid': t_valid,\n",
    "        'X_test': X_test,\n",
    "        't_test': t_test\n",
    "    }\n",
    "    \n",
    "    return data"
   ]
  },
  {
   "cell_type": "code",
   "execution_count": 296,
   "metadata": {},
   "outputs": [],
   "source": [
    "def load_data(path):\n",
    "    \n",
    "    data = np.load(path)\n",
    "    return data"
   ]
  },
  {
   "cell_type": "code",
   "execution_count": 297,
   "metadata": {},
   "outputs": [],
   "source": [
    "def initialize_parameters(num, random=True):\n",
    "    \n",
    "    if random:\n",
    "        w = np.random.randn(num).reshape(-1, 1)\n",
    "    else:\n",
    "        w = np.zeros((num, 1))\n",
    "        \n",
    "    b = 0\n",
    "    \n",
    "    return w, b"
   ]
  },
  {
   "cell_type": "code",
   "execution_count": 298,
   "metadata": {},
   "outputs": [],
   "source": [
    "def sigmoid(x):\n",
    "    \n",
    "    return (1 / (1 + np.exp(-x))).reshape(-1, 1)"
   ]
  },
  {
   "cell_type": "code",
   "execution_count": 299,
   "metadata": {},
   "outputs": [],
   "source": [
    "def compute_error(y, t):\n",
    "    \n",
    "    y = np.where(y >= 1, 0.99, y)\n",
    "    return -np.sum(np.multiply(t, np.log(y)) + np.multiply(1 - t, np.log(1 - y)))"
   ]
  },
  {
   "cell_type": "code",
   "execution_count": 300,
   "metadata": {},
   "outputs": [],
   "source": [
    "def propagate(X, w, b, t):\n",
    "    \n",
    "    # forward calculation\n",
    "    y = sigmoid(np.dot(w.T, X) + b)\n",
    "    \n",
    "    # cost calculation\n",
    "    cost = compute_error(y, t)\n",
    "    \n",
    "    # backward calculation\n",
    "    dw = np.dot(X, y - t)\n",
    "    db = np.sum(y - t)\n",
    "    \n",
    "    grads = {'dw': dw, 'db': db}\n",
    "    \n",
    "    return grads, cost"
   ]
  },
  {
   "cell_type": "code",
   "execution_count": 301,
   "metadata": {},
   "outputs": [],
   "source": [
    "def update(w, b, grads, learningRate=0.001):\n",
    "    \n",
    "    dw = grads['dw']\n",
    "    db = grads['db']\n",
    "    \n",
    "    w = w - learningRate*dw\n",
    "    b = b - learningRate*db\n",
    "    \n",
    "    return w, b"
   ]
  },
  {
   "cell_type": "code",
   "execution_count": 302,
   "metadata": {},
   "outputs": [],
   "source": [
    "def predict(w, b, X):\n",
    "    \n",
    "    probabilities = sigmoid(np.dot(w.T, X) + b)\n",
    "    predictions = np.array([1 if value > 0.5 else 0 for value in probabilities])\n",
    "    \n",
    "    return predictions"
   ]
  },
  {
   "cell_type": "code",
   "execution_count": 303,
   "metadata": {},
   "outputs": [],
   "source": [
    "def model(X, t, learningRate=0.01, maxIters=1000):\n",
    "    \n",
    "    # number of samples\n",
    "    N = X.shape[0]\n",
    "    # number of features\n",
    "    M = X.shape[1]\n",
    "    \n",
    "    w, b = initialize_parameters(N)\n",
    "    costs = []\n",
    "    \n",
    "    for iteration in range(maxIters):\n",
    "        \n",
    "        grads, cost = propagate(X, w, b, t)\n",
    "        w, b = update(w, b, grads, learningRate)\n",
    "        costs.append(cost)\n",
    "        \n",
    "    return w, b, costs"
   ]
  },
  {
   "cell_type": "code",
   "execution_count": 332,
   "metadata": {},
   "outputs": [],
   "source": [
    "def main():\n",
    "    \n",
    "    path = 'data.npy'\n",
    "    data = load_data(path)\n",
    "    \n",
    "    # from here each sample is a row\n",
    "    X, t = segregate_target(data)\n",
    "    data = train_test_validation_split(X, t)\n",
    "    \n",
    "    data['X_train'] = normalize(data['X_train'])\n",
    "    data['X_valid'] = normalize(data['X_valid'])\n",
    "    data['X_test'] = normalize(data['X_test'])\n",
    "    \n",
    "    # from here each sample is a column\n",
    "    X_train = data['X_train'].T\n",
    "    # print(X)\n",
    "    t_train = data['t_train'].reshape(-1,1)\n",
    "    w, b, costs = model(X_train, t_train, learningRate=0.2, maxIters=50000)\n",
    "    \n",
    "    print(w, b)\n",
    "    \n",
    "    # print(costs[0], costs[-1])\n",
    "    X_valid = data['X_valid'].T\n",
    "    print(np.sum(np.abs(predict(w, b, X_valid).reshape(-1,1) - data['t_valid'].reshape(-1,1))) / X_valid.shape[1])\n",
    "    print(np.sum(np.abs(predict(w, b, X_train).reshape(-1,1) - data['t_train'].reshape(-1,1))) / X_train.shape[1])"
   ]
  },
  {
   "cell_type": "code",
   "execution_count": 333,
   "metadata": {},
   "outputs": [
    {
     "name": "stdout",
     "output_type": "stream",
     "text": [
      "[[-118.48513109]\n",
      " [-121.18275152]\n",
      " [-132.30682719]\n",
      " [  -6.00342466]] 165.28233836168224\n",
      "0.01327433628318584\n",
      "0.007616974972796518\n"
     ]
    }
   ],
   "source": [
    "main()"
   ]
  },
  {
   "cell_type": "code",
   "execution_count": 354,
   "metadata": {},
   "outputs": [
    {
     "name": "stdout",
     "output_type": "stream",
     "text": [
      "[-113.22650398 -116.01325007 -126.50360739   -5.68533025]\n"
     ]
    },
    {
     "name": "stderr",
     "output_type": "stream",
     "text": [
      "/home/nihaljain/.local/lib/python3.6/site-packages/sklearn/linear_model/logistic.py:432: FutureWarning: Default solver will be changed to 'lbfgs' in 0.22. Specify a solver to silence this warning.\n",
      "  FutureWarning)\n"
     ]
    }
   ],
   "source": [
    "path = 'data.npy'\n",
    "data = load_data(path)\n",
    "\n",
    "X, t = segregate_target(data)\n",
    "data = train_test_validation_split(X, t)\n",
    "\n",
    "data['X_train'] = normalize(data['X_train'])\n",
    "data['X_valid'] = normalize(data['X_valid'])\n",
    "data['X_test'] = normalize(data['X_test'])\n",
    "\n",
    "X_train = data['X_train']\n",
    "t_train = data['t_train']\n",
    "\n",
    "# print(X_train.shape)\n",
    "\n",
    "sklearn_model(X_train, np.ravel(t_train))"
   ]
  },
  {
   "cell_type": "code",
   "execution_count": null,
   "metadata": {},
   "outputs": [],
   "source": []
  }
 ],
 "metadata": {
  "kernelspec": {
   "display_name": "Python 3",
   "language": "python",
   "name": "python3"
  },
  "language_info": {
   "codemirror_mode": {
    "name": "ipython",
    "version": 3
   },
   "file_extension": ".py",
   "mimetype": "text/x-python",
   "name": "python",
   "nbconvert_exporter": "python",
   "pygments_lexer": "ipython3",
   "version": "3.6.9"
  }
 },
 "nbformat": 4,
 "nbformat_minor": 4
}
